{
 "cells": [
  {
   "cell_type": "code",
   "execution_count": 11,
   "source": [
    "import pandas as pd\n",
    "import numpy as np"
   ],
   "outputs": [],
   "metadata": {}
  },
  {
   "cell_type": "code",
   "execution_count": 20,
   "source": [
    "df = pd.read_csv('Entire_Sales_April2021_October2022.csv')"
   ],
   "outputs": [],
   "metadata": {}
  },
  {
   "cell_type": "code",
   "execution_count": 21,
   "source": [
    "df['usd_value'].mean()"
   ],
   "outputs": [
    {
     "output_type": "execute_result",
     "data": {
      "text/plain": [
       "79957.95793519507"
      ]
     },
     "metadata": {},
     "execution_count": 21
    }
   ],
   "metadata": {}
  },
  {
   "cell_type": "code",
   "execution_count": 22,
   "source": [
    "df[df['token_id'] == 2488]"
   ],
   "outputs": [
    {
     "output_type": "execute_result",
     "data": {
      "text/html": [
       "<div>\n",
       "<style scoped>\n",
       "    .dataframe tbody tr th:only-of-type {\n",
       "        vertical-align: middle;\n",
       "    }\n",
       "\n",
       "    .dataframe tbody tr th {\n",
       "        vertical-align: top;\n",
       "    }\n",
       "\n",
       "    .dataframe thead th {\n",
       "        text-align: right;\n",
       "    }\n",
       "</style>\n",
       "<table border=\"1\" class=\"dataframe\">\n",
       "  <thead>\n",
       "    <tr style=\"text-align: right;\">\n",
       "      <th></th>\n",
       "      <th>token_id</th>\n",
       "      <th>time</th>\n",
       "      <th>usd_value</th>\n",
       "      <th>Clothes_Admirals Coat</th>\n",
       "      <th>Clothes_Bandolier</th>\n",
       "      <th>Clothes_Bayc T Black</th>\n",
       "      <th>Clothes_Bayc T Red</th>\n",
       "      <th>Clothes_Biker Vest</th>\n",
       "      <th>Clothes_Black Holes T</th>\n",
       "      <th>Clothes_Black Suit</th>\n",
       "      <th>...</th>\n",
       "      <th>Hat_Safari</th>\n",
       "      <th>Hat_Sea Captain's Hat</th>\n",
       "      <th>Hat_Seaman's Hat</th>\n",
       "      <th>Hat_Short Mohawk</th>\n",
       "      <th>Hat_Spinner Hat</th>\n",
       "      <th>Hat_Stuntman Helmet</th>\n",
       "      <th>Hat_Sushi Chef Headband</th>\n",
       "      <th>Hat_Trippy Captain's Hat</th>\n",
       "      <th>Hat_Vietnam Era Helmet</th>\n",
       "      <th>Hat_Ww2 Pilot Helm</th>\n",
       "    </tr>\n",
       "  </thead>\n",
       "  <tbody>\n",
       "    <tr>\n",
       "      <th>27230</th>\n",
       "      <td>2488</td>\n",
       "      <td>1.619919e+09</td>\n",
       "      <td>29326.87</td>\n",
       "      <td>0</td>\n",
       "      <td>0</td>\n",
       "      <td>0</td>\n",
       "      <td>0</td>\n",
       "      <td>0</td>\n",
       "      <td>0</td>\n",
       "      <td>0</td>\n",
       "      <td>...</td>\n",
       "      <td>0</td>\n",
       "      <td>0</td>\n",
       "      <td>0</td>\n",
       "      <td>0</td>\n",
       "      <td>0</td>\n",
       "      <td>0</td>\n",
       "      <td>0</td>\n",
       "      <td>0</td>\n",
       "      <td>0</td>\n",
       "      <td>0</td>\n",
       "    </tr>\n",
       "  </tbody>\n",
       "</table>\n",
       "<p>1 rows × 171 columns</p>\n",
       "</div>"
      ],
      "text/plain": [
       "       token_id          time  usd_value  Clothes_Admirals Coat  \\\n",
       "27230      2488  1.619919e+09   29326.87                      0   \n",
       "\n",
       "       Clothes_Bandolier  Clothes_Bayc T Black  Clothes_Bayc T Red  \\\n",
       "27230                  0                     0                   0   \n",
       "\n",
       "       Clothes_Biker Vest  Clothes_Black Holes T  Clothes_Black Suit  ...  \\\n",
       "27230                   0                      0                   0  ...   \n",
       "\n",
       "       Hat_Safari  Hat_Sea Captain's Hat  Hat_Seaman's Hat  Hat_Short Mohawk  \\\n",
       "27230           0                      0                 0                 0   \n",
       "\n",
       "       Hat_Spinner Hat  Hat_Stuntman Helmet  Hat_Sushi Chef Headband  \\\n",
       "27230                0                    0                        0   \n",
       "\n",
       "       Hat_Trippy Captain's Hat  Hat_Vietnam Era Helmet  Hat_Ww2 Pilot Helm  \n",
       "27230                         0                       0                   0  \n",
       "\n",
       "[1 rows x 171 columns]"
      ]
     },
     "metadata": {},
     "execution_count": 22
    }
   ],
   "metadata": {}
  },
  {
   "cell_type": "code",
   "execution_count": 15,
   "source": [
    "df = pd.read_csv('FamousApes.csv')"
   ],
   "outputs": [],
   "metadata": {}
  },
  {
   "cell_type": "code",
   "execution_count": 16,
   "source": [
    "df['log_price'] = df['price'].apply(lambda x: np.log(x))"
   ],
   "outputs": [],
   "metadata": {}
  },
  {
   "cell_type": "code",
   "execution_count": 18,
   "source": [
    "df.to_csv('clean_famous.csv', index=False)"
   ],
   "outputs": [],
   "metadata": {}
  }
 ],
 "metadata": {
  "orig_nbformat": 4,
  "language_info": {
   "name": "python",
   "version": "3.8.12",
   "mimetype": "text/x-python",
   "codemirror_mode": {
    "name": "ipython",
    "version": 3
   },
   "pygments_lexer": "ipython3",
   "nbconvert_exporter": "python",
   "file_extension": ".py"
  },
  "kernelspec": {
   "name": "python3",
   "display_name": "Python 3.8.12 64-bit ('base': conda)"
  },
  "interpreter": {
   "hash": "90b05a84aa19708fa11fa126a6e3e4234276516cc7a71a19a1c81db8c91063e2"
  }
 },
 "nbformat": 4,
 "nbformat_minor": 2
}