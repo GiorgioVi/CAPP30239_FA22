{
 "cells": [
  {
   "cell_type": "code",
   "execution_count": 1,
   "source": [
    "import pandas as pd\n",
    "import numpy as np"
   ],
   "outputs": [],
   "metadata": {}
  },
  {
   "cell_type": "code",
   "execution_count": 2,
   "source": [
    "df = pd.read_csv('Entire_Sales_April2021_October2022.csv')"
   ],
   "outputs": [],
   "metadata": {}
  },
  {
   "cell_type": "code",
   "execution_count": 3,
   "source": [
    "traits = df.columns\n",
    "traits = [x for x in traits if x not in ['token_id','time','usd_value']]"
   ],
   "outputs": [],
   "metadata": {}
  },
  {
   "cell_type": "code",
   "execution_count": 4,
   "source": [
    "sale_volume_list = []\n",
    "for trait in traits:\n",
    "    temp_df = df[df[trait] == 1]\n",
    "    total_sale_volume = temp_df['usd_value'].sum()\n",
    "    sale_volume_list.append(total_sale_volume)"
   ],
   "outputs": [],
   "metadata": {}
  },
  {
   "cell_type": "code",
   "execution_count": 5,
   "source": [
    "new_df = pd.DataFrame()\n",
    "new_df['id'] = traits\n",
    "new_df['usd_contribution'] = sale_volume_list\n",
    "new_df['groupid'] = new_df['id'].apply(lambda x: x.split('_')[0])\n",
    "new_df['id'] = new_df['id'].apply(lambda x: x.split('_')[1])\n",
    "new_df['size'] = new_df['usd_contribution'].apply(lambda x: round(x / 1000000, 1))"
   ],
   "outputs": [],
   "metadata": {}
  },
  {
   "cell_type": "code",
   "execution_count": 6,
   "source": [
    "del new_df['usd_contribution']"
   ],
   "outputs": [],
   "metadata": {}
  },
  {
   "cell_type": "code",
   "execution_count": 7,
   "source": [
    "new_df.to_csv('trait_volume_data.csv',index=False)\n"
   ],
   "outputs": [],
   "metadata": {}
  }
 ],
 "metadata": {
  "orig_nbformat": 4,
  "language_info": {
   "name": "python",
   "version": "3.8.12",
   "mimetype": "text/x-python",
   "codemirror_mode": {
    "name": "ipython",
    "version": 3
   },
   "pygments_lexer": "ipython3",
   "nbconvert_exporter": "python",
   "file_extension": ".py"
  },
  "kernelspec": {
   "name": "python3",
   "display_name": "Python 3.8.12 64-bit ('base': conda)"
  },
  "interpreter": {
   "hash": "90b05a84aa19708fa11fa126a6e3e4234276516cc7a71a19a1c81db8c91063e2"
  }
 },
 "nbformat": 4,
 "nbformat_minor": 2
}