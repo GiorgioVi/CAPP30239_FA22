{
 "cells": [
  {
   "cell_type": "code",
   "execution_count": 9,
   "source": [
    "import pandas as pd\n",
    "import numpy as np"
   ],
   "outputs": [],
   "metadata": {}
  },
  {
   "cell_type": "code",
   "execution_count": 10,
   "source": [
    "df = pd.read_csv('monthly_volume_data.csv')"
   ],
   "outputs": [],
   "metadata": {}
  },
  {
   "cell_type": "code",
   "execution_count": 11,
   "source": [
    "color_dict = {\n",
    "    'Clothes': '#e41a1c',\n",
    "    'Background': '#377eb8',\n",
    "    'Earring': '#4daf4a',\n",
    "    'Eyes': '#984ea3',\n",
    "    'Fur': '#ff7f00',\n",
    "    'Hat': '#f781bf',\n",
    "    'Mouth': '#999999'\n",
    "}"
   ],
   "outputs": [],
   "metadata": {}
  },
  {
   "cell_type": "code",
   "execution_count": 12,
   "source": [
    "df['color'] = np.arange(df.shape[0])\n",
    "df['color'] = df['groupid'].apply(lambda x: color_dict[x])"
   ],
   "outputs": [],
   "metadata": {}
  },
  {
   "cell_type": "code",
   "execution_count": 13,
   "source": [
    "json_output = {\n",
    "    'name': 'Trait Type',\n",
    "    'children': [\n",
    "        {'name': 'Clothes',\n",
    "            'children':[\n",
    "\n",
    "            ],\n",
    "            'color':'#e41a1c',\n",
    "            'opacity': .5\n",
    "        },\n",
    "       {'name': 'Eyes',\n",
    "            'children':[\n",
    "\n",
    "            ],\n",
    "            'color': '#984ea3',\n",
    "            'opacity': .5\n",
    "        },\n",
    "       {'name': 'Earring',\n",
    "            'children':[\n",
    "\n",
    "            ],\n",
    "            'color': '#4daf4a',\n",
    "            'opacity': .5\n",
    "        },\n",
    "       {'name': 'Fur',\n",
    "            'children':[\n",
    "\n",
    "            ],\n",
    "            'color': '#ff7f00',\n",
    "            'opacity': .5\n",
    "        },\n",
    "       {'name': 'Mouth',\n",
    "            'children':[\n",
    "\n",
    "            ],\n",
    "            'color': '#999999',\n",
    "            'opacity': .5\n",
    "        },\n",
    "       {'name': 'Background',\n",
    "            'children':[\n",
    "\n",
    "            ],\n",
    "            'color': '#377eb8',\n",
    "            'opacity': .5\n",
    "        },\n",
    "        {'name': 'Hat',\n",
    "            'children':[\n",
    "\n",
    "            ],\n",
    "            'color': '#f781bf',\n",
    "            'opacity': .5\n",
    "        }\n",
    "    ]\n",
    "}"
   ],
   "outputs": [],
   "metadata": {}
  },
  {
   "cell_type": "code",
   "execution_count": 14,
   "source": [
    "def make_format(a_template, a_df):\n",
    "    for i in range(a_df.shape[0]):\n",
    "        trait_cat = df['groupid'].iloc[i]\n",
    "        a_temp_dict = {\n",
    "            'name': df['id'].iloc[i],\n",
    "            'value': df['size'].iloc[i],\n",
    "            'color': df['color'].iloc[i],\n",
    "            'opacity': .5\n",
    "        }\n",
    "\n",
    "        for j in range(7):\n",
    "            if a_template['children'][j]['name'] == trait_cat:\n",
    "                a_template['children'][j]['children'].append(a_temp_dict)\n",
    "\n",
    "    return a_template"
   ],
   "outputs": [],
   "metadata": {}
  },
  {
   "cell_type": "code",
   "execution_count": 15,
   "source": [
    "output = make_format(json_output, df)"
   ],
   "outputs": [],
   "metadata": {}
  },
  {
   "cell_type": "code",
   "execution_count": 16,
   "source": [
    "import json\n",
    "with open('tree_data.json', 'w') as fp:\n",
    "    json.dump(output, fp)"
   ],
   "outputs": [],
   "metadata": {}
  }
 ],
 "metadata": {
  "orig_nbformat": 4,
  "language_info": {
   "name": "python",
   "version": "3.8.12",
   "mimetype": "text/x-python",
   "codemirror_mode": {
    "name": "ipython",
    "version": 3
   },
   "pygments_lexer": "ipython3",
   "nbconvert_exporter": "python",
   "file_extension": ".py"
  },
  "kernelspec": {
   "name": "python3",
   "display_name": "Python 3.8.12 64-bit ('base': conda)"
  },
  "interpreter": {
   "hash": "90b05a84aa19708fa11fa126a6e3e4234276516cc7a71a19a1c81db8c91063e2"
  }
 },
 "nbformat": 4,
 "nbformat_minor": 2
}