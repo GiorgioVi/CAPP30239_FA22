{
 "cells": [
  {
   "cell_type": "code",
   "execution_count": 4,
   "source": [
    "import pandas as pd\n",
    "import numpy as np"
   ],
   "outputs": [],
   "metadata": {}
  },
  {
   "cell_type": "code",
   "execution_count": 5,
   "source": [
    "df = pd.read_csv('trait_sale_data.csv')"
   ],
   "outputs": [],
   "metadata": {}
  },
  {
   "cell_type": "code",
   "execution_count": 36,
   "source": [
    "df.columns"
   ],
   "outputs": [
    {
     "output_type": "execute_result",
     "data": {
      "text/plain": [
       "Index(['id', 'groupid', 'size', 'color'], dtype='object')"
      ]
     },
     "metadata": {},
     "execution_count": 36
    }
   ],
   "metadata": {}
  },
  {
   "cell_type": "code",
   "execution_count": 6,
   "source": [
    "color_dict = {\n",
    "    'Clothes': '#33CC00',\n",
    "    'Background': '#FFCC66',\n",
    "    'Earring': '#3399FF',\n",
    "    'Eyes': '#FF99FF',\n",
    "    'Fur': '#999999',\n",
    "    'Hat': '#FFFF33',\n",
    "    'Mouth': '#009900'\n",
    "}"
   ],
   "outputs": [],
   "metadata": {}
  },
  {
   "cell_type": "code",
   "execution_count": 7,
   "source": [
    "df['color'] = np.arange(df.shape[0])\n",
    "df['color'] = df['groupid'].apply(lambda x: color_dict[x])"
   ],
   "outputs": [],
   "metadata": {}
  },
  {
   "cell_type": "code",
   "execution_count": 25,
   "source": [
    "df['groupid'].unique()"
   ],
   "outputs": [
    {
     "output_type": "execute_result",
     "data": {
      "text/plain": [
       "array(['Clothes', 'Eyes', 'Earring', 'Fur', 'Mouth', 'Background', 'Hat'],\n",
       "      dtype=object)"
      ]
     },
     "metadata": {},
     "execution_count": 25
    }
   ],
   "metadata": {}
  },
  {
   "cell_type": "code",
   "execution_count": 8,
   "source": [
    "json_output = {\n",
    "    'name': 'Trait Type',\n",
    "    'children': [\n",
    "        {'name': 'Clothes',\n",
    "            'children':[\n",
    "\n",
    "            ],\n",
    "            'color':'#33CC00',\n",
    "            'opacity': .5\n",
    "        },\n",
    "       {'name': 'Eyes',\n",
    "            'children':[\n",
    "\n",
    "            ],\n",
    "            'color': '#FF99FF',\n",
    "            'opacity': .5\n",
    "        },\n",
    "       {'name': 'Earring',\n",
    "            'children':[\n",
    "\n",
    "            ],\n",
    "            'color': '#3399FF',\n",
    "            'opacity': .5\n",
    "        },\n",
    "       {'name': 'Fur',\n",
    "            'children':[\n",
    "\n",
    "            ],\n",
    "            'color': '#999999',\n",
    "            'opacity': .5\n",
    "        },\n",
    "       {'name': 'Mouth',\n",
    "            'children':[\n",
    "\n",
    "            ],\n",
    "            'color': '#009900',\n",
    "            'opacity': .5\n",
    "        },\n",
    "       {'name': 'Background',\n",
    "            'children':[\n",
    "\n",
    "            ],\n",
    "            'color': '#FFCC66',\n",
    "            'opacity': .5\n",
    "        },\n",
    "        {'name': 'Hat',\n",
    "            'children':[\n",
    "\n",
    "            ],\n",
    "            'color': '#FFFF33',\n",
    "            'opacity': .5\n",
    "        }\n",
    "    ]\n",
    "}"
   ],
   "outputs": [],
   "metadata": {}
  },
  {
   "cell_type": "code",
   "execution_count": null,
   "source": [],
   "outputs": [],
   "metadata": {}
  },
  {
   "cell_type": "code",
   "execution_count": 9,
   "source": [
    "json_output.keys()\n",
    "json_output['children'][0]"
   ],
   "outputs": [
    {
     "output_type": "execute_result",
     "data": {
      "text/plain": [
       "{'name': 'Clothes', 'children': [], 'color': '#33CC00', 'opacity': 0.5}"
      ]
     },
     "metadata": {},
     "execution_count": 9
    }
   ],
   "metadata": {}
  },
  {
   "cell_type": "code",
   "execution_count": 10,
   "source": [
    "def make_format(a_template, a_df):\n",
    "    for i in range(a_df.shape[0]):\n",
    "        trait_cat = df['groupid'].iloc[i]\n",
    "        a_temp_dict = {\n",
    "            'name': df['id'].iloc[i],\n",
    "            'value': df['size'].iloc[i],\n",
    "            'color': df['color'].iloc[i],\n",
    "            'opacity': .5\n",
    "        }\n",
    "\n",
    "        for j in range(7):\n",
    "            if a_template['children'][j]['name'] == trait_cat:\n",
    "                a_template['children'][j]['children'].append(a_temp_dict)\n",
    "\n",
    "    return a_template"
   ],
   "outputs": [],
   "metadata": {}
  },
  {
   "cell_type": "code",
   "execution_count": 11,
   "source": [
    "output = make_format(json_output, df)"
   ],
   "outputs": [],
   "metadata": {}
  },
  {
   "cell_type": "code",
   "execution_count": 12,
   "source": [
    "import json\n",
    "with open('result.json', 'w') as fp:\n",
    "    json.dump(output, fp)"
   ],
   "outputs": [],
   "metadata": {}
  },
  {
   "cell_type": "code",
   "execution_count": 60,
   "source": [
    "output.keys()\n",
    "output['children'][0].keys()"
   ],
   "outputs": [
    {
     "output_type": "execute_result",
     "data": {
      "text/plain": [
       "dict_keys(['name', 'children', 'color', 'opacity'])"
      ]
     },
     "metadata": {},
     "execution_count": 60
    }
   ],
   "metadata": {}
  }
 ],
 "metadata": {
  "orig_nbformat": 4,
  "language_info": {
   "name": "python",
   "version": "3.8.12",
   "mimetype": "text/x-python",
   "codemirror_mode": {
    "name": "ipython",
    "version": 3
   },
   "pygments_lexer": "ipython3",
   "nbconvert_exporter": "python",
   "file_extension": ".py"
  },
  "kernelspec": {
   "name": "python3",
   "display_name": "Python 3.8.12 64-bit ('base': conda)"
  },
  "interpreter": {
   "hash": "90b05a84aa19708fa11fa126a6e3e4234276516cc7a71a19a1c81db8c91063e2"
  }
 },
 "nbformat": 4,
 "nbformat_minor": 2
}