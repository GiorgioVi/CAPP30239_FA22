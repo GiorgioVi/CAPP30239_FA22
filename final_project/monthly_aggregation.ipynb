{
 "cells": [
  {
   "cell_type": "code",
   "execution_count": 95,
   "source": [
    "import pandas as pd\n",
    "import numpy as np\n",
    "import datetime as dt"
   ],
   "outputs": [],
   "metadata": {}
  },
  {
   "cell_type": "code",
   "execution_count": 96,
   "source": [
    "df = pd.read_csv('DataVizData.csv')"
   ],
   "outputs": [],
   "metadata": {}
  },
  {
   "cell_type": "code",
   "execution_count": 97,
   "source": [
    "df['date'] = pd.to_datetime(df['time'],unit='s')"
   ],
   "outputs": [],
   "metadata": {}
  },
  {
   "cell_type": "code",
   "execution_count": 98,
   "source": [
    "df['date']"
   ],
   "outputs": [
    {
     "output_type": "execute_result",
     "data": {
      "text/plain": [
       "0       2022-11-01 01:00:23\n",
       "1       2022-10-31 22:29:35\n",
       "2       2022-10-31 22:11:59\n",
       "3       2022-10-31 17:57:11\n",
       "4       2022-10-31 14:33:47\n",
       "                ...        \n",
       "28666   2021-05-01 05:51:32\n",
       "28667   2021-05-01 05:51:32\n",
       "28668   2021-05-01 05:50:09\n",
       "28669   2021-05-01 05:15:48\n",
       "28670   2021-04-30 17:38:59\n",
       "Name: date, Length: 28671, dtype: datetime64[ns]"
      ]
     },
     "metadata": {},
     "execution_count": 98
    }
   ],
   "metadata": {}
  },
  {
   "cell_type": "code",
   "execution_count": 99,
   "source": [
    "df['year'] = df['date'].dt.year\n",
    "df['month'] = df['date'].dt.month"
   ],
   "outputs": [],
   "metadata": {}
  },
  {
   "cell_type": "code",
   "execution_count": 100,
   "source": [
    "df['month_year'] = df.apply(lambda row: str(row['month']) + '/' + str(row['year']), axis=1)"
   ],
   "outputs": [],
   "metadata": {}
  },
  {
   "cell_type": "code",
   "execution_count": 101,
   "source": [
    "df['month_year']"
   ],
   "outputs": [
    {
     "output_type": "execute_result",
     "data": {
      "text/plain": [
       "0        11/2022\n",
       "1        10/2022\n",
       "2        10/2022\n",
       "3        10/2022\n",
       "4        10/2022\n",
       "          ...   \n",
       "28666     5/2021\n",
       "28667     5/2021\n",
       "28668     5/2021\n",
       "28669     5/2021\n",
       "28670     4/2021\n",
       "Name: month_year, Length: 28671, dtype: object"
      ]
     },
     "metadata": {},
     "execution_count": 101
    }
   ],
   "metadata": {}
  },
  {
   "cell_type": "code",
   "execution_count": 102,
   "source": [
    "month_year_aggregation = df.groupby('month_year')['usd_value'].sum().reset_index()"
   ],
   "outputs": [],
   "metadata": {}
  },
  {
   "cell_type": "code",
   "execution_count": 103,
   "source": [
    "month_year_aggregation['month_year']= month_year_aggregation['month_year'].apply(lambda x: pd.to_datetime(x))"
   ],
   "outputs": [],
   "metadata": {}
  },
  {
   "cell_type": "code",
   "execution_count": 104,
   "source": [
    "month_year_aggregation = month_year_aggregation.sort_values(by='month_year')"
   ],
   "outputs": [],
   "metadata": {}
  },
  {
   "cell_type": "code",
   "execution_count": 105,
   "source": [
    "month_year_aggregation = month_year_aggregation[month_year_aggregation['month_year'] != '2021-04-01']\n",
    "month_year_aggregation = month_year_aggregation[month_year_aggregation['month_year'] != '2022-11-01']"
   ],
   "outputs": [],
   "metadata": {}
  },
  {
   "cell_type": "code",
   "execution_count": 106,
   "source": [
    "month_year_aggregation"
   ],
   "outputs": [
    {
     "output_type": "execute_result",
     "data": {
      "text/html": [
       "<div>\n",
       "<style scoped>\n",
       "    .dataframe tbody tr th:only-of-type {\n",
       "        vertical-align: middle;\n",
       "    }\n",
       "\n",
       "    .dataframe tbody tr th {\n",
       "        vertical-align: top;\n",
       "    }\n",
       "\n",
       "    .dataframe thead th {\n",
       "        text-align: right;\n",
       "    }\n",
       "</style>\n",
       "<table border=\"1\" class=\"dataframe\">\n",
       "  <thead>\n",
       "    <tr style=\"text-align: right;\">\n",
       "      <th></th>\n",
       "      <th>month_year</th>\n",
       "      <th>usd_value</th>\n",
       "    </tr>\n",
       "  </thead>\n",
       "  <tbody>\n",
       "    <tr>\n",
       "      <th>10</th>\n",
       "      <td>2021-05-01</td>\n",
       "      <td>16290628.900</td>\n",
       "    </tr>\n",
       "    <tr>\n",
       "      <th>12</th>\n",
       "      <td>2021-06-01</td>\n",
       "      <td>44436887.680</td>\n",
       "    </tr>\n",
       "    <tr>\n",
       "      <th>14</th>\n",
       "      <td>2021-07-01</td>\n",
       "      <td>37557357.060</td>\n",
       "    </tr>\n",
       "    <tr>\n",
       "      <th>16</th>\n",
       "      <td>2021-08-01</td>\n",
       "      <td>293523102.470</td>\n",
       "    </tr>\n",
       "    <tr>\n",
       "      <th>18</th>\n",
       "      <td>2021-09-01</td>\n",
       "      <td>130209588.240</td>\n",
       "    </tr>\n",
       "    <tr>\n",
       "      <th>1</th>\n",
       "      <td>2021-10-01</td>\n",
       "      <td>95157373.260</td>\n",
       "    </tr>\n",
       "    <tr>\n",
       "      <th>3</th>\n",
       "      <td>2021-11-01</td>\n",
       "      <td>198791163.580</td>\n",
       "    </tr>\n",
       "    <tr>\n",
       "      <th>5</th>\n",
       "      <td>2021-12-01</td>\n",
       "      <td>146671532.660</td>\n",
       "    </tr>\n",
       "    <tr>\n",
       "      <th>0</th>\n",
       "      <td>2022-01-01</td>\n",
       "      <td>318399294.780</td>\n",
       "    </tr>\n",
       "    <tr>\n",
       "      <th>6</th>\n",
       "      <td>2022-02-01</td>\n",
       "      <td>120768236.180</td>\n",
       "    </tr>\n",
       "    <tr>\n",
       "      <th>7</th>\n",
       "      <td>2022-03-01</td>\n",
       "      <td>242106404.740</td>\n",
       "    </tr>\n",
       "    <tr>\n",
       "      <th>9</th>\n",
       "      <td>2022-04-01</td>\n",
       "      <td>225369516.720</td>\n",
       "    </tr>\n",
       "    <tr>\n",
       "      <th>11</th>\n",
       "      <td>2022-05-01</td>\n",
       "      <td>210795506.690</td>\n",
       "    </tr>\n",
       "    <tr>\n",
       "      <th>13</th>\n",
       "      <td>2022-06-01</td>\n",
       "      <td>70865165.800</td>\n",
       "    </tr>\n",
       "    <tr>\n",
       "      <th>15</th>\n",
       "      <td>2022-07-01</td>\n",
       "      <td>41626853.320</td>\n",
       "    </tr>\n",
       "    <tr>\n",
       "      <th>17</th>\n",
       "      <td>2022-08-01</td>\n",
       "      <td>48178315.260</td>\n",
       "    </tr>\n",
       "    <tr>\n",
       "      <th>19</th>\n",
       "      <td>2022-09-01</td>\n",
       "      <td>26963654.870</td>\n",
       "    </tr>\n",
       "    <tr>\n",
       "      <th>2</th>\n",
       "      <td>2022-10-01</td>\n",
       "      <td>24665091.350</td>\n",
       "    </tr>\n",
       "  </tbody>\n",
       "</table>\n",
       "</div>"
      ],
      "text/plain": [
       "   month_year     usd_value\n",
       "10 2021-05-01  16290628.900\n",
       "12 2021-06-01  44436887.680\n",
       "14 2021-07-01  37557357.060\n",
       "16 2021-08-01 293523102.470\n",
       "18 2021-09-01 130209588.240\n",
       "1  2021-10-01  95157373.260\n",
       "3  2021-11-01 198791163.580\n",
       "5  2021-12-01 146671532.660\n",
       "0  2022-01-01 318399294.780\n",
       "6  2022-02-01 120768236.180\n",
       "7  2022-03-01 242106404.740\n",
       "9  2022-04-01 225369516.720\n",
       "11 2022-05-01 210795506.690\n",
       "13 2022-06-01  70865165.800\n",
       "15 2022-07-01  41626853.320\n",
       "17 2022-08-01  48178315.260\n",
       "19 2022-09-01  26963654.870\n",
       "2  2022-10-01  24665091.350"
      ]
     },
     "metadata": {},
     "execution_count": 106
    }
   ],
   "metadata": {}
  },
  {
   "cell_type": "code",
   "execution_count": 107,
   "source": [
    "month_year_aggregation['month_year'] = month_year_aggregation['month_year'].apply(lambda x: pd.to_datetime(x, format='%b/%Y'))"
   ],
   "outputs": [],
   "metadata": {}
  },
  {
   "cell_type": "code",
   "execution_count": 108,
   "source": [
    "pd.set_option('display.float_format', lambda x: '%.3f' % x)\n",
    "month_year_aggregation"
   ],
   "outputs": [
    {
     "output_type": "execute_result",
     "data": {
      "text/html": [
       "<div>\n",
       "<style scoped>\n",
       "    .dataframe tbody tr th:only-of-type {\n",
       "        vertical-align: middle;\n",
       "    }\n",
       "\n",
       "    .dataframe tbody tr th {\n",
       "        vertical-align: top;\n",
       "    }\n",
       "\n",
       "    .dataframe thead th {\n",
       "        text-align: right;\n",
       "    }\n",
       "</style>\n",
       "<table border=\"1\" class=\"dataframe\">\n",
       "  <thead>\n",
       "    <tr style=\"text-align: right;\">\n",
       "      <th></th>\n",
       "      <th>month_year</th>\n",
       "      <th>usd_value</th>\n",
       "    </tr>\n",
       "  </thead>\n",
       "  <tbody>\n",
       "    <tr>\n",
       "      <th>10</th>\n",
       "      <td>2021-05-01</td>\n",
       "      <td>16290628.900</td>\n",
       "    </tr>\n",
       "    <tr>\n",
       "      <th>12</th>\n",
       "      <td>2021-06-01</td>\n",
       "      <td>44436887.680</td>\n",
       "    </tr>\n",
       "    <tr>\n",
       "      <th>14</th>\n",
       "      <td>2021-07-01</td>\n",
       "      <td>37557357.060</td>\n",
       "    </tr>\n",
       "    <tr>\n",
       "      <th>16</th>\n",
       "      <td>2021-08-01</td>\n",
       "      <td>293523102.470</td>\n",
       "    </tr>\n",
       "    <tr>\n",
       "      <th>18</th>\n",
       "      <td>2021-09-01</td>\n",
       "      <td>130209588.240</td>\n",
       "    </tr>\n",
       "    <tr>\n",
       "      <th>1</th>\n",
       "      <td>2021-10-01</td>\n",
       "      <td>95157373.260</td>\n",
       "    </tr>\n",
       "    <tr>\n",
       "      <th>3</th>\n",
       "      <td>2021-11-01</td>\n",
       "      <td>198791163.580</td>\n",
       "    </tr>\n",
       "    <tr>\n",
       "      <th>5</th>\n",
       "      <td>2021-12-01</td>\n",
       "      <td>146671532.660</td>\n",
       "    </tr>\n",
       "    <tr>\n",
       "      <th>0</th>\n",
       "      <td>2022-01-01</td>\n",
       "      <td>318399294.780</td>\n",
       "    </tr>\n",
       "    <tr>\n",
       "      <th>6</th>\n",
       "      <td>2022-02-01</td>\n",
       "      <td>120768236.180</td>\n",
       "    </tr>\n",
       "    <tr>\n",
       "      <th>7</th>\n",
       "      <td>2022-03-01</td>\n",
       "      <td>242106404.740</td>\n",
       "    </tr>\n",
       "    <tr>\n",
       "      <th>9</th>\n",
       "      <td>2022-04-01</td>\n",
       "      <td>225369516.720</td>\n",
       "    </tr>\n",
       "    <tr>\n",
       "      <th>11</th>\n",
       "      <td>2022-05-01</td>\n",
       "      <td>210795506.690</td>\n",
       "    </tr>\n",
       "    <tr>\n",
       "      <th>13</th>\n",
       "      <td>2022-06-01</td>\n",
       "      <td>70865165.800</td>\n",
       "    </tr>\n",
       "    <tr>\n",
       "      <th>15</th>\n",
       "      <td>2022-07-01</td>\n",
       "      <td>41626853.320</td>\n",
       "    </tr>\n",
       "    <tr>\n",
       "      <th>17</th>\n",
       "      <td>2022-08-01</td>\n",
       "      <td>48178315.260</td>\n",
       "    </tr>\n",
       "    <tr>\n",
       "      <th>19</th>\n",
       "      <td>2022-09-01</td>\n",
       "      <td>26963654.870</td>\n",
       "    </tr>\n",
       "    <tr>\n",
       "      <th>2</th>\n",
       "      <td>2022-10-01</td>\n",
       "      <td>24665091.350</td>\n",
       "    </tr>\n",
       "  </tbody>\n",
       "</table>\n",
       "</div>"
      ],
      "text/plain": [
       "   month_year     usd_value\n",
       "10 2021-05-01  16290628.900\n",
       "12 2021-06-01  44436887.680\n",
       "14 2021-07-01  37557357.060\n",
       "16 2021-08-01 293523102.470\n",
       "18 2021-09-01 130209588.240\n",
       "1  2021-10-01  95157373.260\n",
       "3  2021-11-01 198791163.580\n",
       "5  2021-12-01 146671532.660\n",
       "0  2022-01-01 318399294.780\n",
       "6  2022-02-01 120768236.180\n",
       "7  2022-03-01 242106404.740\n",
       "9  2022-04-01 225369516.720\n",
       "11 2022-05-01 210795506.690\n",
       "13 2022-06-01  70865165.800\n",
       "15 2022-07-01  41626853.320\n",
       "17 2022-08-01  48178315.260\n",
       "19 2022-09-01  26963654.870\n",
       "2  2022-10-01  24665091.350"
      ]
     },
     "metadata": {},
     "execution_count": 108
    }
   ],
   "metadata": {}
  },
  {
   "cell_type": "code",
   "execution_count": 109,
   "source": [
    "month_year_aggregation['size'] = month_year_aggregation['usd_value'].apply(lambda x: round(x / 1000000, 1))"
   ],
   "outputs": [],
   "metadata": {}
  },
  {
   "cell_type": "code",
   "execution_count": 110,
   "source": [
    "import matplotlib.pyplot as plt"
   ],
   "outputs": [],
   "metadata": {}
  },
  {
   "cell_type": "code",
   "execution_count": 111,
   "source": [
    "list(month_year_aggregation['size'])"
   ],
   "outputs": [
    {
     "output_type": "execute_result",
     "data": {
      "text/plain": [
       "[16.3,\n",
       " 44.4,\n",
       " 37.6,\n",
       " 293.5,\n",
       " 130.2,\n",
       " 95.2,\n",
       " 198.8,\n",
       " 146.7,\n",
       " 318.4,\n",
       " 120.8,\n",
       " 242.1,\n",
       " 225.4,\n",
       " 210.8,\n",
       " 70.9,\n",
       " 41.6,\n",
       " 48.2,\n",
       " 27.0,\n",
       " 24.7]"
      ]
     },
     "metadata": {},
     "execution_count": 111
    }
   ],
   "metadata": {}
  },
  {
   "cell_type": "code",
   "execution_count": 112,
   "source": [
    "fig = plt.figure()\n",
    "ax = fig.add_axes([0,0,1,1])\n",
    "ax.scatter(month_year_aggregation['month_year'],list(month_year_aggregation['size']))\n",
    "plt.xticks(month_year_aggregation['month_year'], rotation=70)\n",
    "plt.show()"
   ],
   "outputs": [
    {
     "output_type": "display_data",
     "data": {
      "image/png": "[encoded data removed]",
      "text/plain": [
       "<Figure size 432x288 with 1 Axes>"
      ]
     },
     "metadata": {
      "needs_background": "light"
     }
    }
   ],
   "metadata": {}
  },
  {
   "cell_type": "code",
   "execution_count": 113,
   "source": [
    "month_year_aggregation[['month_year','size']].to_csv('sales_volume.csv',index=False)"
   ],
   "outputs": [],
   "metadata": {}
  }
 ],
 "metadata": {
  "orig_nbformat": 4,
  "language_info": {
   "name": "python",
   "version": "3.8.12",
   "mimetype": "text/x-python",
   "codemirror_mode": {
    "name": "ipython",
    "version": 3
   },
   "pygments_lexer": "ipython3",
   "nbconvert_exporter": "python",
   "file_extension": ".py"
  },
  "kernelspec": {
   "name": "python3",
   "display_name": "Python 3.8.12 64-bit ('base': conda)"
  },
  "interpreter": {
   "hash": "90b05a84aa19708fa11fa126a6e3e4234276516cc7a71a19a1c81db8c91063e2"
  }
 },
 "nbformat": 4,
 "nbformat_minor": 2
}